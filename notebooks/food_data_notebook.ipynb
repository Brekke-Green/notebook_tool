{
 "cells": [
  {
   "cell_type": "code",
   "execution_count": 1,
   "id": "265d053c-7b77-4b4b-be21-70be0d234f1b",
   "metadata": {},
   "outputs": [],
   "source": [
    "import os\n",
    "import numpy as pd\n",
    "import pandas as pd"
   ]
  },
  {
   "cell_type": "code",
   "execution_count": 13,
   "id": "af63aeba-a1db-43ae-8027-54a04cb3b688",
   "metadata": {
    "editable": true,
    "slideshow": {
     "slide_type": ""
    },
    "tags": []
   },
   "outputs": [
    {
     "name": "stdout",
     "output_type": "stream",
     "text": [
      "<class 'pandas.core.frame.DataFrame'>\n",
      "RangeIndex: 5624 entries, 0 to 5623\n",
      "Data columns (total 5 columns):\n",
      " #   Column            Non-Null Count  Dtype  \n",
      "---  ------            --------------  -----  \n",
      " 0   fdc_id            5624 non-null   int64  \n",
      " 1   data_type         5624 non-null   object \n",
      " 2   description       5624 non-null   object \n",
      " 3   food_category_id  0 non-null      float64\n",
      " 4   publication_date  5624 non-null   object \n",
      "dtypes: float64(1), int64(1), object(3)\n",
      "memory usage: 219.8+ KB\n",
      "None\n",
      "<class 'pandas.core.frame.DataFrame'>\n",
      "RangeIndex: 474 entries, 0 to 473\n",
      "Data columns (total 5 columns):\n",
      " #   Column        Non-Null Count  Dtype  \n",
      "---  ------        --------------  -----  \n",
      " 0   id            474 non-null    int64  \n",
      " 1   name          474 non-null    object \n",
      " 2   unit_name     474 non-null    object \n",
      " 3   nutrient_nbr  462 non-null    float64\n",
      " 4   rank          463 non-null    float64\n",
      "dtypes: float64(2), int64(1), object(2)\n",
      "memory usage: 18.6+ KB\n",
      "None\n",
      "<class 'pandas.core.frame.DataFrame'>\n",
      "RangeIndex: 365560 entries, 0 to 365559\n",
      "Data columns (total 11 columns):\n",
      " #   Column             Non-Null Count   Dtype  \n",
      "---  ------             --------------   -----  \n",
      " 0   id                 365560 non-null  int64  \n",
      " 1   fdc_id             365560 non-null  int64  \n",
      " 2   nutrient_id        365560 non-null  int64  \n",
      " 3   amount             365560 non-null  float64\n",
      " 4   data_points        0 non-null       float64\n",
      " 5   derivation_id      0 non-null       float64\n",
      " 6   min                0 non-null       float64\n",
      " 7   max                0 non-null       float64\n",
      " 8   median             0 non-null       float64\n",
      " 9   footnote           0 non-null       float64\n",
      " 10  min_year_acquired  0 non-null       float64\n",
      "dtypes: float64(8), int64(3)\n",
      "memory usage: 30.7 MB\n",
      "None\n"
     ]
    }
   ],
   "source": [
    "data_path = f'../data/FoodData_Central_survey_food_csv_2022-10-28/'\n",
    "\n",
    "files = []\n",
    "food_data = []\n",
    "nutrient_data = []\n",
    "food_nutrient_data = []\n",
    "try:\n",
    "    for i in os.listdir(data_path):\n",
    "        if os.path.isfile(os.path.join(data_path,i)):\n",
    "            files.append(i)\n",
    "except FileNotFoundError:\n",
    "    print(\"PLEASE MAKE SURE THE DATA PATH LEADS TO THE DATA DIRECTORY WHERE THE DATA FILES ARE LOCATED\\n\")   \n",
    "except NameError:\n",
    "    print(\"PLEASE INSERT A VALID PATH STRING TO THE DATA DIRECTORY\\n\")\n",
    "\n",
    "if '.DS_Store' in files:\n",
    "    files.remove('.DS_Store')\n",
    "for file in files:\n",
    "    if \"food_nutrient.csv\" == file.lower():\n",
    "        food_nutrient_data.append(pd.read_csv(data_path + file, low_memory=False))\n",
    "    elif \"nutrient.csv\" == file.lower():\n",
    "        nutrient_data.append(pd.read_csv(data_path + file, low_memory=False))\n",
    "    elif \"food.csv\" == file.lower():\n",
    "        food_data.append(pd.read_csv(data_path + file, low_memory=False))\n",
    "    \n",
    "# load_data_combined_df = pd.concat(load_data, ignore_index=True)\n",
    "# driver_data_combined_df = pd.concat(driver_data, ignore_index=True)\n",
    "# print(load_data_combined_df.info())\n",
    "# display(load_data_combined_df.head())\n",
    "# print(driver_data_combined_df.info())\n",
    "# display(driver_data_combined_df.head())\n",
    "food_data_combined_df = pd.concat(food_data, ignore_index=True)\n",
    "nutrient_data_combined_df = pd.concat(nutrient_data, ignore_index=True)\n",
    "food_nutrient_data_combined_df = pd.concat(food_nutrient_data, ignore_index=True)\n",
    "print(food_data_combined_df.info())\n",
    "print(nutrient_data_combined_df.info())\n",
    "print(food_nutrient_data_combined_df.info())"
   ]
  },
  {
   "cell_type": "code",
   "execution_count": null,
   "id": "ee377cbf-f706-423b-b50f-3c42c1b390ee",
   "metadata": {},
   "outputs": [],
   "source": []
  }
 ],
 "metadata": {
  "kernelspec": {
   "display_name": "Python 3 (ipykernel)",
   "language": "python",
   "name": "python3"
  },
  "language_info": {
   "codemirror_mode": {
    "name": "ipython",
    "version": 3
   },
   "file_extension": ".py",
   "mimetype": "text/x-python",
   "name": "python",
   "nbconvert_exporter": "python",
   "pygments_lexer": "ipython3",
   "version": "3.11.6"
  }
 },
 "nbformat": 4,
 "nbformat_minor": 5
}
